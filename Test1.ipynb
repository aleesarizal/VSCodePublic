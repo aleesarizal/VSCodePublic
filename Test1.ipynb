{
 "cells": [
  {
   "cell_type": "markdown",
   "id": "7d81e033",
   "metadata": {},
   "source": [
    "# Welcome to Jupyter Notebook\n",
    "This is a section where you can describe a matter or issue at hand.\n",
    "\n",
    "Add one * for *italics* whilst two ** acts as **bold**.\n",
    "\n",
    "To create lists you need to add a dash before a word,\n",
    "\n",
    "- Item 1\n",
    "- Item 2\n",
    "- Item 3\n",
    "\n",
    "```\n",
    "Use back ticks to create block codes\n",
    "```\n",
    "[Google](https://www.google.com/)\n",
    "\n",
    "And below you can find a picture of an orchid,\n",
    "![And below you can find a picture of an orchid](/Users/User/Downloads/orchid.jpg \"Orchid\")\n",
    "\n",
    "$ git config --global user.name \"sararizal\"\n",
    "$ git config --global user.email 78630371+sararizal@users.noreply.github.com"
   ]
  }
 ],
 "metadata": {
  "kernelspec": {
   "display_name": "Python 3",
   "language": "python",
   "name": "python3"
  },
  "language_info": {
   "name": "python",
   "version": "3.14.0"
  }
 },
 "nbformat": 4,
 "nbformat_minor": 5
}
